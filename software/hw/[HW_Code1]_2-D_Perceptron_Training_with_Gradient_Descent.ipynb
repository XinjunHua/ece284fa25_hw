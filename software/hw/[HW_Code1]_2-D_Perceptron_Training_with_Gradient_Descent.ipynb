{
 "cells": [
  {
   "cell_type": "code",
   "execution_count": 4,
   "id": "agreed-korean",
   "metadata": {},
   "outputs": [
    {
     "name": "stdout",
     "output_type": "stream",
     "text": [
      "Net(\n",
      "  (linear): Linear(in_features=2, out_features=1, bias=True)\n",
      ")\n",
      "[Parameter containing:\n",
      "tensor([[-0.0048, -0.3135]], requires_grad=True), Parameter containing:\n",
      "tensor([-0.0552], requires_grad=True)]\n",
      "when x = tensor([[1.0000, 2.1000]]), y = tensor([[3.6601]], grad_fn=<AddmmBackward0>)\n",
      "when x = tensor([[2.0000, 3.5000]]), y = tensor([[6.6393]], grad_fn=<AddmmBackward0>)\n",
      "when x = tensor([[3., 3.]]), y = tensor([[9.6726]], grad_fn=<AddmmBackward0>)\n",
      "when x = tensor([[4.0000, 2.1000]]), y = tensor([[12.7172]], grad_fn=<AddmmBackward0>)\n",
      "when x = tensor([[5.0000, 7.2000]]), y = tensor([[15.5912]], grad_fn=<AddmmBackward0>)\n",
      "when x = tensor([[ 6.0000, 10.1000]]), y = tensor([[18.5278]], grad_fn=<AddmmBackward0>)\n"
     ]
    }
   ],
   "source": [
    "### Training with manually updating W with \"Backward\" ###\n",
    "\n",
    "import torch\n",
    "#from torch.autograd import Variable\n",
    "import torch.nn as nn\n",
    "import torch.nn.functional as F\n",
    "\n",
    "import torch.optim as optim\n",
    "\n",
    "\n",
    "data = [(1.0,2.1,3.0), (2.0, 3.5, 6.0), (3.0, 3.0, 9.0), (4.0, 2.1, 12.0), (5.0, 7.2, 15.0), (6.0, 10.1, 18.0)]\n",
    "\n",
    "\n",
    "class Net(nn.Module):\n",
    "    def __init__(self):\n",
    "        super(Net, self).__init__()\n",
    "        self.linear = nn.Linear(2,1) # input: 2D\n",
    "    def forward(self, x):\n",
    "        x = self.linear(x)\n",
    "        return x\n",
    "\n",
    "net = Net()\n",
    "\n",
    "print(net)\n",
    "print(list(net.parameters()))\n",
    "\n",
    "#input = torch.randn(1)\n",
    "#out = net(input)\n",
    "\n",
    "#def criterion(out, label):\n",
    "#    return (label - out)**2\n",
    "criterion = nn.MSELoss()\n",
    "\n",
    "\n",
    "optimizer = optim.SGD(net.parameters(), lr=0.01, momentum=0.5)\n",
    "#optimizer = optim.Adam(net.parameters(), lr=0.005)\n",
    "\n",
    "\n",
    "# training starts here\n",
    "for epoch in range(20):\n",
    "    for x1, x2, y in data:\n",
    "\n",
    "        inputs = torch.tensor([[x1, x2]], dtype=torch.float32)\n",
    "        label = torch.tensor([[y]], dtype=torch.float32)\n",
    "\n",
    "        output = net(inputs)\n",
    "        loss = criterion(output, label)\n",
    "\n",
    "        optimizer.zero_grad()\n",
    "        loss.backward()\n",
    "        optimizer.step()\n",
    "\n",
    "\n",
    "### Test the trained network ###            \n",
    "for i, current_data in enumerate(data):\n",
    "    x1, x2, label = current_data \n",
    "    inputs = torch.tensor([[x1, x2]], dtype = torch.float32)\n",
    "    # label = torch.tensor([[y]], dtype=torch.float32)\n",
    "    output = net.forward(inputs)\n",
    "    print(\"when x = {}, y = {}\".format(inputs, output))"
   ]
  }
 ],
 "metadata": {
  "kernelspec": {
   "display_name": "Python 3",
   "language": "python",
   "name": "python3"
  },
  "language_info": {
   "codemirror_mode": {
    "name": "ipython",
    "version": 3
   },
   "file_extension": ".py",
   "mimetype": "text/x-python",
   "name": "python",
   "nbconvert_exporter": "python",
   "pygments_lexer": "ipython3",
   "version": "3.12.7"
  }
 },
 "nbformat": 4,
 "nbformat_minor": 5
}
